{
 "cells": [
  {
   "cell_type": "raw",
   "id": "0ef81f3a",
   "metadata": {},
   "source": [
    "# Exercise 1\n",
    "# Roman numerals are represented by seven different symbols: I, V, X, L, C, D and M.\n",
    "\n",
    "# Symbol       Value\n",
    "# I             1\n",
    "# V             5\n",
    "# X             10\n",
    "# L             50\n",
    "# C             100\n",
    "# D             500\n",
    "# M             1000\n",
    "\n",
    "# For example, 2 is written as II in Roman numeral, just two one's added together. 12 is written as XII, which is simply X + II. The number 27 is written as XXVII, which is XX + V + II.\n",
    "\n",
    "# Roman numerals are usually written largest to smallest from left to right. However, the numeral for four is not IIII. Instead, the number four is written as IV. Because the one is before the five we subtract it making four. The same principle applies to the number nine, which is written as IX. There are six instances where subtraction is used:\n",
    "\n",
    "# I can be placed before V (5) and X (10) to make 4 and 9. \n",
    "# X can be placed before L (50) and C (100) to make 40 and 90. \n",
    "# C can be placed before D (500) and M (1000) to make 400 and 900.\n",
    "# Given a roman numeral, convert it to an integer.\n",
    "# Example 1: Input: s = \"III\"\n",
    "# Output: 3\n",
    "\n",
    "# Example 2: Input: s = \"IV\"\n",
    "# Output: 4\n",
    "\n",
    "# Example 3: Input: s = \"IX\"\n",
    "# Output: 9\n",
    "\n",
    "# Example 4: Input: s = \"LVIII\"\n",
    "# Output: 58\n",
    "# Explanation: L = 50, V= 5, III = 3.\n",
    "\n",
    "# Example 5: Input: s = \"MCMXCIV\"\n",
    "# Output: 1994\n",
    "# Explanation: M = 1000, CM = 900, XC = 90 and IV = 4."
   ]
  },
  {
   "cell_type": "code",
   "execution_count": 203,
   "id": "e713405c",
   "metadata": {
    "scrolled": true
   },
   "outputs": [
    {
     "name": "stdout",
     "output_type": "stream",
     "text": [
      "0 V 5\n",
      "1 I 1\n",
      "2 I 1\n"
     ]
    }
   ],
   "source": [
    "def roman_to_int(roman):\n",
    "    conversions = {\n",
    "        'I': 1,\n",
    "        'V' : 5,\n",
    "        'X': 10,\n",
    "        'L': 50,\n",
    "        'C': 100,\n",
    "        'D': 500,\n",
    "        'M': 1000,\n",
    "        'IV': 4,\n",
    "        'IX': 9,\n",
    "        'XL': 40,\n",
    "        'XC':90,\n",
    "        'CD': 400,\n",
    "        'CM': 900\n",
    "    }\n",
    "    final_int = 0\n",
    "    \n",
    "    i = 0\n",
    "    while i < len(roman):\n",
    "        print(i, roman[i], conversions[roman[i]])\n",
    "        i+= 1\n",
    "#     for digit in roman:\n",
    "        \n",
    "# #add digit conversion to final_int\n",
    "#         final_int += conversions[digit]\n",
    "#     return final_int\n",
    "      \n",
    "\n",
    "\n",
    "\n",
    "\n",
    "\n",
    "\n",
    "roman_to_int('VII') # 3\n",
    " "
   ]
  },
  {
   "cell_type": "markdown",
   "id": "b063ad3f",
   "metadata": {},
   "source": [
    "Given a sentence as a string, find the longest word in the sentence. You may assume punctuation marks are a part of the word.\n",
    "\n",
    "Example 1: Input: s = \"Hello this is a test of your knowledge on python strings, dictionaries, lists, and loops\"\n",
    "Output: \"dictionaries,\"\n",
    "Explanation: dictionaries, is the longest word in the the sentence with 13 letters\n",
    "\n",
    "Example 2: Input: s = \"This sentence is awesome\"\n",
    "Output: \"sentence\""
   ]
  },
  {
   "cell_type": "code",
   "execution_count": 125,
   "id": "49a78274",
   "metadata": {},
   "outputs": [
    {
     "name": "stdout",
     "output_type": "stream",
     "text": [
      "dictionaries\n"
     ]
    }
   ],
   "source": [
    "#I am given a string S\n",
    "#i must find the longest word which, is dict\n",
    "#First have to define the string\n",
    "#max finds the largest integer so maybe max works for a string?\n",
    "#I am given the string\n",
    "#s and the assignment operator equals the string given\n",
    "s = \"Hello this is a test of your knowledge on python strings, dictionaries, lists, and loops\"\n",
    "\n",
    "#create a variable and equal the max method because I want to longest string.\n",
    "#max and then s because s is the string\n",
    "#I want split the string into words\n",
    "#I want to use sort to sort the words \n",
    "#parameter for a built in function\n",
    "#lambda x is parameter of lambda return n x\n",
    "#\n",
    "def find_the_longest_string(s):\n",
    "#      .sort()\n",
    "    find_longest = max(s.split(\" \"), key =lambda x:len(x))\n",
    "    print(find_longest)\n",
    "\n",
    "find_the_longest_string(s.replace(\",\", \"\"))"
   ]
  },
  {
   "cell_type": "code",
   "execution_count": null,
   "id": "57359111",
   "metadata": {},
   "outputs": [],
   "source": []
  },
  {
   "cell_type": "code",
   "execution_count": null,
   "id": "9d5e5c40",
   "metadata": {},
   "outputs": [],
   "source": []
  }
 ],
 "metadata": {
  "kernelspec": {
   "display_name": "Python 3",
   "language": "python",
   "name": "python3"
  },
  "language_info": {
   "codemirror_mode": {
    "name": "ipython",
    "version": 3
   },
   "file_extension": ".py",
   "mimetype": "text/x-python",
   "name": "python",
   "nbconvert_exporter": "python",
   "pygments_lexer": "ipython3",
   "version": "3.8.8"
  }
 },
 "nbformat": 4,
 "nbformat_minor": 5
}
